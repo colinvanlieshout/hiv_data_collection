{
 "cells": [
  {
   "cell_type": "markdown",
   "metadata": {},
   "source": [
    "#### Ik heb '7 - Percentage of firms owned by women  by size_data.csv' geskipt aangezien het een leeg bestand is"
   ]
  },
  {
   "cell_type": "code",
   "execution_count": 23,
   "metadata": {},
   "outputs": [],
   "source": [
    "import pandas as pd\n",
    "import numpy as np\n",
    "import glob\n",
    "columns = ['Country', 'Year', 'measure_value', 'Indicator', 'Indicator_category', 'unit_of_measure', 'Source']"
   ]
  },
  {
   "cell_type": "markdown",
   "metadata": {},
   "source": [
    "## Model retrieval"
   ]
  },
  {
   "cell_type": "code",
   "execution_count": 24,
   "metadata": {},
   "outputs": [],
   "source": [
    "geos = pd.read_excel('../geo_locations_zoom.xlsx')\n",
    "countries = geos.Name.tolist()\n",
    "iso2 = geos.ISO2.tolist()\n",
    "iso3 = geos.ISO2.tolist()"
   ]
  },
  {
   "cell_type": "markdown",
   "metadata": {},
   "source": [
    "## Functions to clear transform data"
   ]
  },
  {
   "cell_type": "code",
   "execution_count": 25,
   "metadata": {},
   "outputs": [],
   "source": [
    "def replaceCountries(df):\n",
    "    df = df[~df['Country'].isna()]\n",
    "    df.Country = df.Country.str.lower()\n",
    "    df.Country.replace(['congo', 'democratic republic of the congo', 'united republic of tanzania', 'north macedonia', \n",
    "                        'state of palestine', 'viet nam', \"côte d'ivoire\", \"democratic people's republic of korea\", \n",
    "                        'republic of korea', 'swaziland', 'republic of moldova', 'china  hong kong special administrative region', \n",
    "                        'runion', 'china  macao special administrative region', 'british virgin islands', 'faeroe islands', \n",
    "                        'saint helena', 'united states virgin islands', 'wallis and futuna islands'], \n",
    "                       ['republic of congo', 'congo (democratic republic of the)', 'tanzania', 'macedonia', \n",
    "                        'palestine', 'vietnam', 'ivory coast', 'north korea', \n",
    "                        'south korea', 'eswatini', 'moldova', 'hong kong', \n",
    "                        'réunion', 'macao', 'virgin islands (british)', 'faroe islands', \n",
    "                        'saint helena, ascension and tristan da cunha', 'virgin islands (u.s.)', 'wallis and futuna'], inplace=True)\n",
    "    return df\n",
    "\n",
    "def setValue(df, newDf):\n",
    "    if 'Value' in df.columns:\n",
    "        newDf.measure_value = df.Value\n",
    "    else:\n",
    "        newDf.measure_value = df['Measure Value']\n",
    "    return newDf\n",
    "\n",
    "def setIndicatorCategory(file, df, newDf):\n",
    "    if 'Sex' in df.columns:\n",
    "        if 'Age' in df.columns and df.Age.isna().sum() == 0:\n",
    "            newDf.Indicator_category = df.Sex + ' - ' + df.Age\n",
    "        else:\n",
    "            newDf.Indicator_category = df.Sex\n",
    "    elif 'Age' in df.columns:\n",
    "        newDf.Indicator_category = df.Age\n",
    "    elif 'Measure Name' in df.columns:\n",
    "        newDf.Indicator_category = df['Measure Name']\n",
    "        newDf.unit_of_measure = 'Text'\n",
    "    else:\n",
    "        print(\"Can't find Indicator Category in file\", file)\n",
    "        df.columns\n",
    "    newDf.Indicator_category.replace('not applicable', 'Whole population', inplace=True)\n",
    "    return newDf\n",
    "\n",
    "def setYearColumn(df, newDf):\n",
    "    if 'Year' in df.columns:\n",
    "        newDf.Year = df.Year\n",
    "    else:\n",
    "        newDf.Year = 2019\n",
    "    return newDf"
   ]
  },
  {
   "cell_type": "markdown",
   "metadata": {},
   "source": [
    "## Create DataFrame"
   ]
  },
  {
   "cell_type": "code",
   "execution_count": 26,
   "metadata": {
    "scrolled": true
   },
   "outputs": [],
   "source": [
    "dataframe = pd.DataFrame(columns=columns)\n",
    "skip = ['7 - Percentage of firms owned by women  by size_data.csv']\n",
    "files = glob.glob('*.csv')\n",
    "for file in files:\n",
    "    if file in skip:\n",
    "        continue\n",
    "    df = pd.read_csv(file, skiprows=2, na_values=['–','—', '-'])\n",
    "    try:\n",
    "        df = replaceCountries(df)\n",
    "        newDf = pd.DataFrame(columns=columns)\n",
    "        newDf.Country = df.Country\n",
    "        newDf.Indicator = df['Indicator Name']\n",
    "        newDf.unit_of_measure = 'Number'\n",
    "        newDf.Source = 'Genderstats'\n",
    "        \n",
    "        newDf = setValue(df, newDf)\n",
    "        newDf = setIndicatorCategory(file, df, newDf)\n",
    "        newDf = setYearColumn(df, newDf)\n",
    "        \n",
    "        dataframe = pd.concat([dataframe, newDf])\n",
    "    except Exception as e:\n",
    "        print('Error in File: ', file)\n",
    "        print(e)"
   ]
  },
  {
   "cell_type": "markdown",
   "metadata": {},
   "source": [
    "## Remove rows with NaNs and non-numerical"
   ]
  },
  {
   "cell_type": "code",
   "execution_count": 27,
   "metadata": {
    "scrolled": false
   },
   "outputs": [
    {
     "data": {
      "text/html": [
       "<div>\n",
       "<style scoped>\n",
       "    .dataframe tbody tr th:only-of-type {\n",
       "        vertical-align: middle;\n",
       "    }\n",
       "\n",
       "    .dataframe tbody tr th {\n",
       "        vertical-align: top;\n",
       "    }\n",
       "\n",
       "    .dataframe thead th {\n",
       "        text-align: right;\n",
       "    }\n",
       "</style>\n",
       "<table border=\"1\" class=\"dataframe\">\n",
       "  <thead>\n",
       "    <tr style=\"text-align: right;\">\n",
       "      <th></th>\n",
       "      <th>Country</th>\n",
       "      <th>Year</th>\n",
       "      <th>measure_value</th>\n",
       "      <th>Indicator</th>\n",
       "      <th>Indicator_category</th>\n",
       "      <th>unit_of_measure</th>\n",
       "      <th>Source</th>\n",
       "    </tr>\n",
       "  </thead>\n",
       "  <tbody>\n",
       "  </tbody>\n",
       "</table>\n",
       "</div>"
      ],
      "text/plain": [
       "Empty DataFrame\n",
       "Columns: [Country, Year, measure_value, Indicator, Indicator_category, unit_of_measure, Source]\n",
       "Index: []"
      ]
     },
     "execution_count": 27,
     "metadata": {},
     "output_type": "execute_result"
    }
   ],
   "source": [
    "dataframe.dropna(inplace=True)\n",
    "dataframe[dataframe.isnull().any(axis=1)]"
   ]
  },
  {
   "cell_type": "code",
   "execution_count": 28,
   "metadata": {},
   "outputs": [],
   "source": [
    "#remove non-numerical values\n",
    "dataframe['measure_value'] = pd.to_numeric(dataframe['measure_value'], errors = 'coerce')\n",
    "dataframe = dataframe.dropna(subset = ['measure_value'])"
   ]
  },
  {
   "cell_type": "markdown",
   "metadata": {},
   "source": [
    "### Align country names with ISO"
   ]
  },
  {
   "cell_type": "code",
   "execution_count": 29,
   "metadata": {},
   "outputs": [],
   "source": [
    "country_iso_dict = dict(zip(countries, iso3))\n",
    "\n",
    "dataframe['iso3'] = dataframe.Country.map(country_iso_dict)"
   ]
  },
  {
   "cell_type": "code",
   "execution_count": 30,
   "metadata": {},
   "outputs": [],
   "source": [
    "dataframe['Indicator_short'] = dataframe['Indicator'].str[:150]"
   ]
  },
  {
   "cell_type": "code",
   "execution_count": 31,
   "metadata": {},
   "outputs": [
    {
     "data": {
      "text/plain": [
       "150"
      ]
     },
     "execution_count": 31,
     "metadata": {},
     "output_type": "execute_result"
    }
   ],
   "source": [
    "len_list = [len(x) for x in list(dataframe['Indicator_short'])]\n",
    "max(len_list)"
   ]
  },
  {
   "cell_type": "code",
   "execution_count": 33,
   "metadata": {
    "scrolled": true
   },
   "outputs": [
    {
     "data": {
      "text/plain": [
       "31"
      ]
     },
     "execution_count": 33,
     "metadata": {},
     "output_type": "execute_result"
    }
   ],
   "source": [
    "len(dataframe.Indicator_short.value_counts())"
   ]
  },
  {
   "cell_type": "code",
   "execution_count": 47,
   "metadata": {},
   "outputs": [
    {
     "data": {
      "text/plain": [
       "Number of new HIV infections per 1 000 uninfected population  by sex  age and key populations                                                             28649\n",
       "Unemployment rate  by sex  age and persons with disabilities                                                                                              13839\n",
       "Under-five mortality rate  by sex                                                                                                                         10507\n",
       "Gross enrolment ratio in secondary education  by sex                                                                                                       8705\n",
       "Primary education completion rate (proxy)  by sex                                                                                                          7510\n",
       "Labour force participation rate for persons aged 15+  by sex                                                                                               7504\n",
       "Adjusted net enrolment rate in primary education by sex                                                                                                    7038\n",
       "Labour force participation rate for persons aged 15-24  by sex                                                                                             6248\n",
       "Gender gap in wages  by occupation  age and persons with disabilities                                                                                      5194\n",
       "Maternal mortality ratio                                                                                                                                   4748\n",
       "Proportion of women of reproductive age (aged 15-49 years) who have their need for family planning satisfied with modern methods: estimates                4433\n",
       "Gender parity index of the gross enrolment ratios in primary education                                                                                     3437\n",
       "Gender parity index of the gross enrolment ratios in secondary education                                                                                   2863\n",
       "Gross graduation ratio from lower secondary education  by sex                                                                                              2754\n",
       "Gender parity index of the gross enrolment ratios in tertiary education                                                                                    2558\n",
       "Proportion of births attended by skilled health personnel                                                                                                  2452\n",
       "Adolescent birth rate (aged 15-19 years) per 1 000 women in that age group                                                                                 2141\n",
       "Average number of hours spent on domestic chores and care work  by sex  age and location                                                                   1985\n",
       "Average number of hours spent on unpaid domestic chores  by sex  age and location                                                                          1835\n",
       "Average number of hours spent on unpaid care work  by sex  age and location                                                                                1809\n",
       "Youth literacy rate of persons (15-24 years)  by sex                                                                                                       1639\n",
       "Proportion of adults (15 years and older) with an account at a bank or other financial institution or with a mobile-money-service provider  by sex         1270\n",
       "Proportion of individuals using the Internet  by sex                                                                                                        793\n",
       "Proportion of ever-partnered women and girls aged 15 years and older subjected to physical  sexual or psychological violence by a current or former in      557\n",
       "Proportion of individuals who own a mobile telephone  by sex                                                                                                403\n",
       "Proportion of women of reproductive age (aged 15-49 years) who have their need for family planning satisfied with modern methods                            365\n",
       "Access to anti-retroviral drug  by sex                                                                                                                      268\n",
       "Proportion of women aged 20-24 years who were married or in a union before age 15                                                                           125\n",
       "Proportion of women aged 20-24 years who were married or in a union before age 18                                                                           125\n",
       "Proportion of women and girls aged 15 years and older subjected to sexual violence by persons other than an intimate partner in the previous 12 months       72\n",
       "Proportion of girls and women aged 15-49 years who have undergone female genital mutilation/cutting  by age                                                  29\n",
       "Name: Indicator_short, dtype: int64"
      ]
     },
     "execution_count": 47,
     "metadata": {},
     "output_type": "execute_result"
    }
   ],
   "source": [
    "dataframe.Indicator_short.value_counts()"
   ]
  },
  {
   "cell_type": "code",
   "execution_count": 38,
   "metadata": {},
   "outputs": [],
   "source": [
    "df_17 = dataframe[dataframe['Year'] == 2017]\n"
   ]
  },
  {
   "cell_type": "code",
   "execution_count": 46,
   "metadata": {},
   "outputs": [
    {
     "data": {
      "text/html": [
       "<div>\n",
       "<style scoped>\n",
       "    .dataframe tbody tr th:only-of-type {\n",
       "        vertical-align: middle;\n",
       "    }\n",
       "\n",
       "    .dataframe tbody tr th {\n",
       "        vertical-align: top;\n",
       "    }\n",
       "\n",
       "    .dataframe thead th {\n",
       "        text-align: right;\n",
       "    }\n",
       "</style>\n",
       "<table border=\"1\" class=\"dataframe\">\n",
       "  <thead>\n",
       "    <tr style=\"text-align: right;\">\n",
       "      <th></th>\n",
       "      <th>Country</th>\n",
       "      <th>Year</th>\n",
       "      <th>measure_value</th>\n",
       "      <th>Indicator</th>\n",
       "      <th>Indicator_category</th>\n",
       "      <th>unit_of_measure</th>\n",
       "      <th>Source</th>\n",
       "      <th>iso3</th>\n",
       "      <th>Indicator_short</th>\n",
       "    </tr>\n",
       "  </thead>\n",
       "  <tbody>\n",
       "  </tbody>\n",
       "</table>\n",
       "</div>"
      ],
      "text/plain": [
       "Empty DataFrame\n",
       "Columns: [Country, Year, measure_value, Indicator, Indicator_category, unit_of_measure, Source, iso3, Indicator_short]\n",
       "Index: []"
      ]
     },
     "execution_count": 46,
     "metadata": {},
     "output_type": "execute_result"
    }
   ],
   "source": [
    "df_17[df_17['Indicator_short'].str.contains('proportion of ')]"
   ]
  },
  {
   "cell_type": "code",
   "execution_count": 50,
   "metadata": {
    "scrolled": true
   },
   "outputs": [
    {
     "data": {
      "text/html": [
       "<div>\n",
       "<style scoped>\n",
       "    .dataframe tbody tr th:only-of-type {\n",
       "        vertical-align: middle;\n",
       "    }\n",
       "\n",
       "    .dataframe tbody tr th {\n",
       "        vertical-align: top;\n",
       "    }\n",
       "\n",
       "    .dataframe thead th {\n",
       "        text-align: right;\n",
       "    }\n",
       "</style>\n",
       "<table border=\"1\" class=\"dataframe\">\n",
       "  <thead>\n",
       "    <tr style=\"text-align: right;\">\n",
       "      <th></th>\n",
       "      <th>Country</th>\n",
       "      <th>Year</th>\n",
       "      <th>measure_value</th>\n",
       "      <th>Indicator</th>\n",
       "      <th>Indicator_category</th>\n",
       "      <th>unit_of_measure</th>\n",
       "      <th>Source</th>\n",
       "      <th>iso3</th>\n",
       "      <th>Indicator_short</th>\n",
       "    </tr>\n",
       "  </thead>\n",
       "  <tbody>\n",
       "    <tr>\n",
       "      <th>1120</th>\n",
       "      <td>burundi</td>\n",
       "      <td>2017</td>\n",
       "      <td>85.1</td>\n",
       "      <td>Proportion of births attended by skilled healt...</td>\n",
       "      <td>Female</td>\n",
       "      <td>Number</td>\n",
       "      <td>Genderstats</td>\n",
       "      <td>bi</td>\n",
       "      <td>Proportion of births attended by skilled healt...</td>\n",
       "    </tr>\n",
       "    <tr>\n",
       "      <th>1303</th>\n",
       "      <td>nigeria</td>\n",
       "      <td>2017</td>\n",
       "      <td>43.0</td>\n",
       "      <td>Proportion of births attended by skilled healt...</td>\n",
       "      <td>Female</td>\n",
       "      <td>Number</td>\n",
       "      <td>Genderstats</td>\n",
       "      <td>ng</td>\n",
       "      <td>Proportion of births attended by skilled healt...</td>\n",
       "    </tr>\n",
       "    <tr>\n",
       "      <th>1725</th>\n",
       "      <td>haiti</td>\n",
       "      <td>2017</td>\n",
       "      <td>41.7</td>\n",
       "      <td>Proportion of births attended by skilled healt...</td>\n",
       "      <td>Female</td>\n",
       "      <td>Number</td>\n",
       "      <td>Genderstats</td>\n",
       "      <td>ht</td>\n",
       "      <td>Proportion of births attended by skilled healt...</td>\n",
       "    </tr>\n",
       "  </tbody>\n",
       "</table>\n",
       "</div>"
      ],
      "text/plain": [
       "      Country  Year  measure_value  \\\n",
       "1120  burundi  2017           85.1   \n",
       "1303  nigeria  2017           43.0   \n",
       "1725    haiti  2017           41.7   \n",
       "\n",
       "                                              Indicator Indicator_category  \\\n",
       "1120  Proportion of births attended by skilled healt...             Female   \n",
       "1303  Proportion of births attended by skilled healt...             Female   \n",
       "1725  Proportion of births attended by skilled healt...             Female   \n",
       "\n",
       "     unit_of_measure       Source iso3  \\\n",
       "1120          Number  Genderstats   bi   \n",
       "1303          Number  Genderstats   ng   \n",
       "1725          Number  Genderstats   ht   \n",
       "\n",
       "                                        Indicator_short  \n",
       "1120  Proportion of births attended by skilled healt...  \n",
       "1303  Proportion of births attended by skilled healt...  \n",
       "1725  Proportion of births attended by skilled healt...  "
      ]
     },
     "execution_count": 50,
     "metadata": {},
     "output_type": "execute_result"
    }
   ],
   "source": [
    "df_17[df_17['Indicator_short'] == 'Proportion of births attended by skilled health personnel']"
   ]
  },
  {
   "cell_type": "code",
   "execution_count": 52,
   "metadata": {},
   "outputs": [
    {
     "data": {
      "text/plain": [
       "Number of new HIV infections per 1 000 uninfected population  by sex  age and key populations                                                             1602\n",
       "Unemployment rate  by sex  age and persons with disabilities                                                                                               768\n",
       "Under-five mortality rate  by sex                                                                                                                          583\n",
       "Proportion of adults (15 years and older) with an account at a bank or other financial institution or with a mobile-money-service provider  by sex         424\n",
       "Gender gap in wages  by occupation  age and persons with disabilities                                                                                      292\n",
       "Access to anti-retroviral drug  by sex                                                                                                                     268\n",
       "Labour force participation rate for persons aged 15+  by sex                                                                                               230\n",
       "Labour force participation rate for persons aged 15-24  by sex                                                                                             212\n",
       "Proportion of women of reproductive age (aged 15-49 years) who have their need for family planning satisfied with modern methods: estimates                185\n",
       "Proportion of individuals who own a mobile telephone  by sex                                                                                               106\n",
       "Proportion of ever-partnered women and girls aged 15 years and older subjected to physical  sexual or psychological violence by a current or former in      55\n",
       "Average number of hours spent on unpaid care work  by sex  age and location                                                                                 42\n",
       "Average number of hours spent on domestic chores and care work  by sex  age and location                                                                    42\n",
       "Average number of hours spent on unpaid domestic chores  by sex  age and location                                                                           41\n",
       "Gross enrolment ratio in secondary education  by sex                                                                                                        30\n",
       "Gross graduation ratio from lower secondary education  by sex                                                                                               30\n",
       "Adjusted net enrolment rate in primary education by sex                                                                                                     28\n",
       "Primary education completion rate (proxy)  by sex                                                                                                           27\n",
       "Proportion of women of reproductive age (aged 15-49 years) who have their need for family planning satisfied with modern methods                            19\n",
       "Gender parity index of the gross enrolment ratios in primary education                                                                                      11\n",
       "Gender parity index of the gross enrolment ratios in secondary education                                                                                    10\n",
       "Gender parity index of the gross enrolment ratios in tertiary education                                                                                      8\n",
       "Proportion of girls and women aged 15-49 years who have undergone female genital mutilation/cutting  by age                                                  3\n",
       "Proportion of births attended by skilled health personnel                                                                                                    3\n",
       "Adolescent birth rate (aged 15-19 years) per 1 000 women in that age group                                                                                   2\n",
       "Proportion of women aged 20-24 years who were married or in a union before age 18                                                                            1\n",
       "Proportion of women aged 20-24 years who were married or in a union before age 15                                                                            1\n",
       "Name: Indicator_short, dtype: int64"
      ]
     },
     "execution_count": 52,
     "metadata": {},
     "output_type": "execute_result"
    }
   ],
   "source": [
    "df_17.Indicator_short.value_counts()"
   ]
  },
  {
   "cell_type": "code",
   "execution_count": 14,
   "metadata": {},
   "outputs": [],
   "source": [
    "# dataframe[dataframe['Indicator'] == 'Legal minimum age at marriage by sex']"
   ]
  },
  {
   "cell_type": "code",
   "execution_count": 15,
   "metadata": {},
   "outputs": [],
   "source": [
    "# ## remove categorical text\n",
    "# dataframe = dataframe[dataframe['Indicator'] != 'Legal minimum age at marriage by sex']\n",
    "# dataframe = dataframe[dataframe['Indicator'] != 'Existence of laws on domestic violence']"
   ]
  },
  {
   "cell_type": "markdown",
   "metadata": {},
   "source": [
    "## Save Dataframe as CSV"
   ]
  },
  {
   "cell_type": "code",
   "execution_count": 16,
   "metadata": {},
   "outputs": [],
   "source": [
    "dataframe.to_csv('../genderstats_03-09-2019.csv', sep=',', encoding = 'UTF-8', index = False)"
   ]
  },
  {
   "cell_type": "code",
   "execution_count": null,
   "metadata": {},
   "outputs": [],
   "source": []
  }
 ],
 "metadata": {
  "hide_input": false,
  "kernelspec": {
   "display_name": "Python 3",
   "language": "python",
   "name": "python3"
  },
  "language_info": {
   "codemirror_mode": {
    "name": "ipython",
    "version": 3
   },
   "file_extension": ".py",
   "mimetype": "text/x-python",
   "name": "python",
   "nbconvert_exporter": "python",
   "pygments_lexer": "ipython3",
   "version": "3.5.2"
  },
  "toc": {
   "base_numbering": 1,
   "nav_menu": {},
   "number_sections": true,
   "sideBar": true,
   "skip_h1_title": false,
   "title_cell": "Table of Contents",
   "title_sidebar": "Contents",
   "toc_cell": false,
   "toc_position": {},
   "toc_section_display": true,
   "toc_window_display": false
  }
 },
 "nbformat": 4,
 "nbformat_minor": 2
}
